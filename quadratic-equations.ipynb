{
 "cells": [
  {
   "cell_type": "code",
   "execution_count": 1,
   "metadata": {
    "collapsed": true,
    "ExecuteTime": {
     "end_time": "2024-10-15T09:31:44.627589800Z",
     "start_time": "2024-10-15T09:31:40.247282800Z"
    }
   },
   "outputs": [
    {
     "name": "stdout",
     "output_type": "stream",
     "text": [
      "Requirement already satisfied: sympy in e:\\projects\\maths\\basic algebra\\venv\\lib\\site-packages (1.13.3)\n",
      "Requirement already satisfied: mpmath<1.4,>=1.1.0 in e:\\projects\\maths\\basic algebra\\venv\\lib\\site-packages (from sympy) (1.3.0)\n"
     ]
    },
    {
     "name": "stderr",
     "output_type": "stream",
     "text": [
      "\n",
      "[notice] A new release of pip available: 22.3.1 -> 24.2\n",
      "[notice] To update, run: python.exe -m pip install --upgrade pip\n"
     ]
    }
   ],
   "source": [
    "!pip install sympy"
   ]
  },
  {
   "cell_type": "code",
   "execution_count": 2,
   "outputs": [],
   "source": [
    "from sympy import symbols, Eq, solve"
   ],
   "metadata": {
    "collapsed": false,
    "ExecuteTime": {
     "end_time": "2024-10-15T09:31:45.371500300Z",
     "start_time": "2024-10-15T09:31:44.630587400Z"
    }
   }
  },
  {
   "cell_type": "code",
   "execution_count": 3,
   "outputs": [],
   "source": [
    "x = symbols('x')\n",
    "y = symbols('y')\n",
    "z = symbols('z')"
   ],
   "metadata": {
    "collapsed": false,
    "ExecuteTime": {
     "end_time": "2024-10-15T09:31:45.377796600Z",
     "start_time": "2024-10-15T09:31:45.372796400Z"
    }
   }
  },
  {
   "cell_type": "markdown",
   "source": [
    "Equation: 2x² - 4x - 6 = 0"
   ],
   "metadata": {
    "collapsed": false
   }
  },
  {
   "cell_type": "code",
   "execution_count": 4,
   "outputs": [
    {
     "name": "stdout",
     "output_type": "stream",
     "text": [
      "The solution is x = [-1, 3]\n"
     ]
    }
   ],
   "source": [
    "quadratic_equation = Eq(2*x**2 - 4*x - 6, 0)\n",
    "solution = solve(quadratic_equation, x)\n",
    "print(f\"The solution is x = {solution}\")"
   ],
   "metadata": {
    "collapsed": false,
    "ExecuteTime": {
     "end_time": "2024-10-15T09:31:45.467453500Z",
     "start_time": "2024-10-15T09:31:45.378384100Z"
    }
   }
  },
  {
   "cell_type": "markdown",
   "source": [
    "Equation: 3x² + 5 = 20"
   ],
   "metadata": {
    "collapsed": false
   }
  },
  {
   "cell_type": "code",
   "execution_count": 7,
   "outputs": [
    {
     "name": "stdout",
     "output_type": "stream",
     "text": [
      "The solution is x = [-sqrt(5), sqrt(5)]\n"
     ]
    }
   ],
   "source": [
    "quadratic_equation = Eq(3*x**2 + 5, 20)\n",
    "solution = solve(quadratic_equation, x)\n",
    "print(f\"The solution is x = {solution}\")"
   ],
   "metadata": {
    "collapsed": false,
    "ExecuteTime": {
     "end_time": "2024-10-15T09:35:55.958795800Z",
     "start_time": "2024-10-15T09:35:55.947837300Z"
    }
   }
  },
  {
   "cell_type": "markdown",
   "source": [
    "Equation: 2x² - 4x + 6 = 0"
   ],
   "metadata": {
    "collapsed": false
   }
  },
  {
   "cell_type": "code",
   "execution_count": 9,
   "outputs": [
    {
     "name": "stdout",
     "output_type": "stream",
     "text": [
      "The solution is x = [1 - sqrt(2)*I, 1 + sqrt(2)*I]\n"
     ]
    }
   ],
   "source": [
    "quadratic_equation = Eq(2*x**2 - 4*x + 6, 0)\n",
    "solution = solve(quadratic_equation, x)\n",
    "print(f\"The solution is x = {solution}\")"
   ],
   "metadata": {
    "collapsed": false,
    "ExecuteTime": {
     "end_time": "2024-10-15T09:36:37.892079900Z",
     "start_time": "2024-10-15T09:36:37.883938800Z"
    }
   }
  }
 ],
 "metadata": {
  "kernelspec": {
   "display_name": "Python 3",
   "language": "python",
   "name": "python3"
  },
  "language_info": {
   "codemirror_mode": {
    "name": "ipython",
    "version": 2
   },
   "file_extension": ".py",
   "mimetype": "text/x-python",
   "name": "python",
   "nbconvert_exporter": "python",
   "pygments_lexer": "ipython2",
   "version": "2.7.6"
  }
 },
 "nbformat": 4,
 "nbformat_minor": 0
}
