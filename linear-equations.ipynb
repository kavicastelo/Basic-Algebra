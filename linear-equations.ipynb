{
 "cells": [
  {
   "cell_type": "code",
   "execution_count": 2,
   "outputs": [
    {
     "name": "stdout",
     "output_type": "stream",
     "text": [
      "Collecting sympy\n",
      "  Downloading sympy-1.13.3-py3-none-any.whl (6.2 MB)\n",
      "     ---------------------------------------- 6.2/6.2 MB 137.0 kB/s eta 0:00:00\n",
      "Collecting mpmath<1.4,>=1.1.0\n",
      "  Downloading mpmath-1.3.0-py3-none-any.whl (536 kB)\n",
      "     ------------------------------------ 536.2/536.2 kB 135.2 kB/s eta 0:00:00\n",
      "Installing collected packages: mpmath, sympy\n",
      "Successfully installed mpmath-1.3.0 sympy-1.13.3\n"
     ]
    },
    {
     "name": "stderr",
     "output_type": "stream",
     "text": [
      "\n",
      "[notice] A new release of pip available: 22.3.1 -> 24.2\n",
      "[notice] To update, run: python.exe -m pip install --upgrade pip\n"
     ]
    }
   ],
   "source": [
    "!pip install sympy"
   ],
   "metadata": {
    "collapsed": false,
    "ExecuteTime": {
     "end_time": "2024-10-15T09:00:52.829788900Z",
     "start_time": "2024-10-15T08:59:47.206031800Z"
    }
   }
  },
  {
   "cell_type": "code",
   "execution_count": 4,
   "outputs": [],
   "source": [
    "from sympy import symbols, Eq, solve # importing sympy"
   ],
   "metadata": {
    "collapsed": false,
    "ExecuteTime": {
     "end_time": "2024-10-15T09:07:01.768829300Z",
     "start_time": "2024-10-15T09:07:01.761850500Z"
    }
   }
  },
  {
   "cell_type": "code",
   "execution_count": 5,
   "outputs": [],
   "source": [
    "x = symbols('x') # defining symbols\n",
    "y = symbols('y')\n",
    "z = symbols('z')"
   ],
   "metadata": {
    "collapsed": false,
    "ExecuteTime": {
     "end_time": "2024-10-15T09:07:28.368544200Z",
     "start_time": "2024-10-15T09:07:28.322139700Z"
    }
   }
  },
  {
   "cell_type": "markdown",
   "source": [
    "Equation: 3x + 5 = 20"
   ],
   "metadata": {
    "collapsed": false
   }
  },
  {
   "cell_type": "code",
   "execution_count": 6,
   "outputs": [
    {
     "name": "stdout",
     "output_type": "stream",
     "text": [
      "The solution is x = [5]\n"
     ]
    }
   ],
   "source": [
    "equation = Eq(3*x + 5, 20)\n",
    "solution = solve(equation, x)\n",
    "print(f\"The solution is x = {solution}\")"
   ],
   "metadata": {
    "collapsed": false,
    "ExecuteTime": {
     "end_time": "2024-10-15T09:09:31.584922800Z",
     "start_time": "2024-10-15T09:09:31.529954700Z"
    }
   }
  },
  {
   "cell_type": "markdown",
   "source": [
    "Equation: x + 5 = 20"
   ],
   "metadata": {
    "collapsed": false
   }
  },
  {
   "cell_type": "code",
   "execution_count": 7,
   "outputs": [
    {
     "name": "stdout",
     "output_type": "stream",
     "text": [
      "The solution is x = [15]\n"
     ]
    }
   ],
   "source": [
    "equation = Eq(x + 5, 20)\n",
    "solution = solve(equation, x)\n",
    "print(f\"The solution is x = {solution}\")"
   ],
   "metadata": {
    "collapsed": false,
    "ExecuteTime": {
     "end_time": "2024-10-15T09:10:22.276831800Z",
     "start_time": "2024-10-15T09:10:22.269817900Z"
    }
   }
  },
  {
   "cell_type": "markdown",
   "source": [
    "Equation: x - 5 = 20"
   ],
   "metadata": {
    "collapsed": false
   }
  },
  {
   "cell_type": "code",
   "execution_count": 8,
   "outputs": [
    {
     "name": "stdout",
     "output_type": "stream",
     "text": [
      "The solution is x = [25]\n"
     ]
    }
   ],
   "source": [
    "equation = Eq(x - 5, 20)\n",
    "solution = solve(equation, x)\n",
    "print(f\"The solution is x = {solution}\")"
   ],
   "metadata": {
    "collapsed": false,
    "ExecuteTime": {
     "end_time": "2024-10-15T09:10:49.935210700Z",
     "start_time": "2024-10-15T09:10:49.926450200Z"
    }
   }
  },
  {
   "cell_type": "markdown",
   "source": [
    "Equation: 8x + x = 20"
   ],
   "metadata": {
    "collapsed": false
   }
  },
  {
   "cell_type": "code",
   "execution_count": 9,
   "outputs": [
    {
     "name": "stdout",
     "output_type": "stream",
     "text": [
      "The solution is x = [20/9]\n"
     ]
    }
   ],
   "source": [
    "equation = Eq(8*x + x, 20)\n",
    "solution = solve(equation, x)\n",
    "print(f\"The solution is x = {solution}\")"
   ],
   "metadata": {
    "collapsed": false,
    "ExecuteTime": {
     "end_time": "2024-10-15T09:13:08.180210200Z",
     "start_time": "2024-10-15T09:13:08.174105500Z"
    }
   }
  },
  {
   "cell_type": "markdown",
   "source": [
    "Step 1: Combine like terms.\n",
    "8x+x=9x\n",
    "\n",
    "Step 2: Now the equation is 9x = 20. To solve for x, divide both sides by 9.\n",
    "x=20/9"
   ],
   "metadata": {
    "collapsed": false
   }
  },
  {
   "cell_type": "markdown",
   "source": [
    "Equation: 2x - (5+x) = 20"
   ],
   "metadata": {
    "collapsed": false
   }
  },
  {
   "cell_type": "code",
   "execution_count": 10,
   "outputs": [
    {
     "name": "stdout",
     "output_type": "stream",
     "text": [
      "The solution is x = [25]\n"
     ]
    }
   ],
   "source": [
    "equation = Eq(2*x - (5+x), 20)\n",
    "solution = solve(equation, x)\n",
    "print(f\"The solution is x = {solution}\")"
   ],
   "metadata": {
    "collapsed": false,
    "ExecuteTime": {
     "end_time": "2024-10-15T09:14:10.120856900Z",
     "start_time": "2024-10-15T09:14:10.114032500Z"
    }
   }
  },
  {
   "cell_type": "markdown",
   "source": [
    "Step 1: Distribute the negative sign inside the parentheses:\n",
    "2x−5−x=20\n",
    "\n",
    "Step 2: Combine like terms.\n",
    "(2x−x)−5=20⇒x−5=20\n",
    "\n",
    "Step 3: Add 5 to both sides to isolate x.\n",
    "x=20+5⇒x=25"
   ],
   "metadata": {
    "collapsed": false
   }
  },
  {
   "cell_type": "markdown",
   "source": [
    "Equation: 3x + 5y = 45"
   ],
   "metadata": {
    "collapsed": false
   }
  },
  {
   "cell_type": "code",
   "execution_count": 12,
   "outputs": [
    {
     "name": "stdout",
     "output_type": "stream",
     "text": [
      "The solution is y = [9 - 3*x/5]\n",
      "The solution is x = [15 - 5*y/3]\n"
     ]
    }
   ],
   "source": [
    "equation = Eq(3*x + 5*y, 45)\n",
    "solution1 = solve(equation, y)\n",
    "solution2 = solve(equation, x)\n",
    "print(f\"The solution is y = {solution1}\")\n",
    "print(f\"The solution is x = {solution2}\")"
   ],
   "metadata": {
    "collapsed": false,
    "ExecuteTime": {
     "end_time": "2024-10-15T09:20:03.506132700Z",
     "start_time": "2024-10-15T09:20:03.470511900Z"
    }
   }
  },
  {
   "cell_type": "markdown",
   "source": [
    "This is a linear equation with two variables. To express one variable in terms of the other:\n",
    "\n",
    "Solving for y:\n",
    "\n",
    "Subtract 3x from both sides:\n",
    "5y=45−3x\n",
    "Divide by 5:\n",
    "y=45-3x/5 ⇒ y=9-3x/5\n",
    "\n",
    "Solving for x:\n",
    "\n",
    "Subtract 5y from both sides:\n",
    "3x=45−5y\n",
    "Divide by 3:\n",
    "x=45-5y/3 ⇒ x=15-5y/3"
   ],
   "metadata": {
    "collapsed": false
   }
  },
  {
   "cell_type": "markdown",
   "source": [
    "Equation: x + 5y = 20"
   ],
   "metadata": {
    "collapsed": false
   }
  },
  {
   "cell_type": "code",
   "execution_count": 13,
   "outputs": [
    {
     "name": "stdout",
     "output_type": "stream",
     "text": [
      "The solution is y = [4 - x/5]\n",
      "The solution is x = [20 - 5*y]\n"
     ]
    }
   ],
   "source": [
    "equation = Eq(x + 5*y, 20)\n",
    "solution1 = solve(equation, y)\n",
    "solution2 = solve(equation, x)\n",
    "print(f\"The solution is y = {solution1}\")\n",
    "print(f\"The solution is x = {solution2}\")"
   ],
   "metadata": {
    "collapsed": false,
    "ExecuteTime": {
     "end_time": "2024-10-15T09:20:48.604259Z",
     "start_time": "2024-10-15T09:20:48.542839500Z"
    }
   }
  },
  {
   "cell_type": "markdown",
   "source": [
    "Solving for y:\n",
    "\n",
    "Subtract x from both sides:\n",
    "5y=20−x\n",
    "Divide by 5:\n",
    "y=20-x/5 ⇒ y=4-x/5\n",
    "\n",
    "Solving for x:\n",
    "\n",
    "Subtract 5y from both sides:\n",
    "x=20−5y"
   ],
   "metadata": {
    "collapsed": false
   }
  },
  {
   "cell_type": "markdown",
   "source": [
    "Equation: x - 5y = 20"
   ],
   "metadata": {
    "collapsed": false
   }
  },
  {
   "cell_type": "code",
   "execution_count": 14,
   "outputs": [
    {
     "name": "stdout",
     "output_type": "stream",
     "text": [
      "The solution is y = [x/5 - 4]\n",
      "The solution is x = [5*y + 20]\n"
     ]
    }
   ],
   "source": [
    "equation = Eq(x - 5*y, 20)\n",
    "solution1 = solve(equation, y)\n",
    "solution2 = solve(equation, x)\n",
    "print(f\"The solution is y = {solution1}\")\n",
    "print(f\"The solution is x = {solution2}\")"
   ],
   "metadata": {
    "collapsed": false,
    "ExecuteTime": {
     "end_time": "2024-10-15T09:21:29.099108Z",
     "start_time": "2024-10-15T09:21:29.040185100Z"
    }
   }
  },
  {
   "cell_type": "markdown",
   "source": [
    "Solving for y:\n",
    "\n",
    "Add 5y to both sides:\n",
    "x=5y+20\n",
    "Divide by 5:\n",
    "y=x/5-4\n",
    "\n",
    "Solving for x:\n",
    "\n",
    "Rearranging the equation gives:\n",
    "x=5y+20"
   ],
   "metadata": {
    "collapsed": false
   }
  },
  {
   "cell_type": "markdown",
   "source": [
    "Equation: 8x + y / z = 20"
   ],
   "metadata": {
    "collapsed": false
   }
  },
  {
   "cell_type": "code",
   "execution_count": 16,
   "outputs": [
    {
     "name": "stdout",
     "output_type": "stream",
     "text": [
      "The solution is y = [4*z*(5 - 2*x)]\n",
      "The solution is x = [(-y + 20*z)/(8*z)]\n",
      "The solution is z = [-y/(8*x - 20)]\n"
     ]
    }
   ],
   "source": [
    "equation = Eq(8*x + y / z, 20)\n",
    "solution1 = solve(equation, y)\n",
    "solution2 = solve(equation, x)\n",
    "solution3 = solve(equation, z)\n",
    "print(f\"The solution is y = {solution1}\")\n",
    "print(f\"The solution is x = {solution2}\")\n",
    "print(f\"The solution is z = {solution3}\")"
   ],
   "metadata": {
    "collapsed": false,
    "ExecuteTime": {
     "end_time": "2024-10-15T09:22:30.717149400Z",
     "start_time": "2024-10-15T09:22:30.668302900Z"
    }
   }
  },
  {
   "cell_type": "markdown",
   "source": [
    "Equation: 8x + \\frac{y}{z} = 20\n",
    "Solving for y:\n",
    "\n",
    "Subtract 8x from both sides:\n",
    "y/z=20−8x\n",
    "Multiply both sides by z to isolate y:\n",
    "y=z(20−8x)⇒y=4z(5−2x)\n",
    "\n",
    "Solving for x:\n",
    "\n",
    "Subtract \\frac{y}{z} from both sides:\n",
    "8x=20−y/z\n",
    "\n",
    "Divide both sides by 8:\n",
    "x = (20-y/z)/8 ⇒ x = (20z-y)/8z\n",
    "\n",
    "Solving for z:\n",
    "\n",
    "Subtract 8x from both sides:\n",
    "y/z=20−8x\n",
    "Rearranging:\n",
    "z=y/(8x−20)"
   ],
   "metadata": {
    "collapsed": false
   }
  },
  {
   "cell_type": "markdown",
   "source": [
    "Equation: 8x - y / z = 20"
   ],
   "metadata": {
    "collapsed": false
   }
  },
  {
   "cell_type": "code",
   "execution_count": 17,
   "outputs": [
    {
     "name": "stdout",
     "output_type": "stream",
     "text": [
      "The solution is y = [4*z*(2*x - 5)]\n",
      "The solution is x = [(y + 20*z)/(8*z)]\n",
      "The solution is z = [y/(4*(2*x - 5))]\n"
     ]
    }
   ],
   "source": [
    "equation = Eq(8*x - y / z, 20)\n",
    "solution1 = solve(equation, y)\n",
    "solution2 = solve(equation, x)\n",
    "solution3 = solve(equation, z)\n",
    "print(f\"The solution is y = {solution1}\")\n",
    "print(f\"The solution is x = {solution2}\")\n",
    "print(f\"The solution is z = {solution3}\")"
   ],
   "metadata": {
    "collapsed": false,
    "ExecuteTime": {
     "end_time": "2024-10-15T09:23:36.356096100Z",
     "start_time": "2024-10-15T09:23:36.312574200Z"
    }
   }
  },
  {
   "cell_type": "markdown",
   "source": [
    "Equation: 8x - \\frac{y}{z} = 20\n",
    "Solving for y:\n",
    "\n",
    "Add \\frac{y}{z} to both sides:\n",
    "8x=20+y/z\n",
    "\n",
    "Multiply both sides by z:\n",
    "y=z(8x−20)⇒y=4z(2x−5)\n",
    "\n",
    "Solving for x:\n",
    "\n",
    "Subtract \\frac{y}{z} from both sides:\n",
    "8x=20+y/z\n",
    "\n",
    "Rearranging and dividing by 8:\n",
    "x=(y+20z)/8\n",
    "\n",
    "Solving for z:\n",
    "\n",
    "Multiply both sides by z:\n",
    "y=z(8x−20)\n",
    "Rearranging gives:\n",
    "z=y/(4(2x−5))"
   ],
   "metadata": {
    "collapsed": false
   }
  },
  {
   "cell_type": "code",
   "execution_count": null,
   "outputs": [],
   "source": [],
   "metadata": {
    "collapsed": false
   }
  }
 ],
 "metadata": {
  "kernelspec": {
   "display_name": "Python 3",
   "language": "python",
   "name": "python3"
  },
  "language_info": {
   "codemirror_mode": {
    "name": "ipython",
    "version": 2
   },
   "file_extension": ".py",
   "mimetype": "text/x-python",
   "name": "python",
   "nbconvert_exporter": "python",
   "pygments_lexer": "ipython2",
   "version": "2.7.6"
  }
 },
 "nbformat": 4,
 "nbformat_minor": 0
}
